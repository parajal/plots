{
 "cells": [
  {
   "cell_type": "code",
   "execution_count": 24,
   "id": "c1111379",
   "metadata": {},
   "outputs": [
    {
     "name": "stdout",
     "output_type": "stream",
     "text": [
      "Requirement already satisfied: ngsolve in c:\\users\\20220558\\appdata\\roaming\\python\\python39\\site-packages (6.2.2204)\n",
      "Requirement already satisfied: mkl==2021.* in c:\\users\\20220558\\appdata\\roaming\\python\\python39\\site-packages (from ngsolve) (2021.4.0)\n",
      "Requirement already satisfied: netgen-mesher==6.2.2203.post46.dev in c:\\users\\20220558\\appdata\\roaming\\python\\python39\\site-packages (from ngsolve) (6.2.2203.post46.dev0)\n",
      "Requirement already satisfied: tbb==2021.* in c:\\users\\20220558\\appdata\\roaming\\python\\python39\\site-packages (from mkl==2021.*->ngsolve) (2021.7.1)\n",
      "Requirement already satisfied: intel-openmp==2021.* in c:\\users\\20220558\\appdata\\roaming\\python\\python39\\site-packages (from mkl==2021.*->ngsolve) (2021.4.0)\n",
      "Note: you may need to restart the kernel to use updated packages.\n"
     ]
    }
   ],
   "source": [
    "pip install ngsolve"
   ]
  },
  {
   "cell_type": "code",
   "execution_count": 46,
   "id": "3b1d0b3b",
   "metadata": {},
   "outputs": [],
   "source": [
    "from ngsolve import *\n",
    "from ngsolve.webgui import Draw\n",
    "import numpy as np\n",
    "from netgen.geom2d import SplineGeometry\n",
    "import matplotlib.tri as mtri\n",
    "import matplotlib.pyplot as plt\n",
    "from pytictoc import TicToc\n",
    "import ezyrb\n",
    "from ezyrb import POD, RBF, Database, GPR\n",
    "from ezyrb import ReducedOrderModel as ROM\n",
    "%matplotlib inline\n",
    "from sklearn.gaussian_process import kernels"
   ]
  },
  {
   "cell_type": "code",
   "execution_count": 47,
   "id": "b3d8cc2d",
   "metadata": {},
   "outputs": [],
   "source": [
    "# viscosity\n",
    "nu = 0.01\n",
    "\n",
    "# timestepping parameters\n",
    "tau = 0.01\n",
    "tend = 5\n"
   ]
  },
  {
   "cell_type": "code",
   "execution_count": 48,
   "id": "8ae9994e",
   "metadata": {},
   "outputs": [
    {
     "data": {
      "application/vnd.jupyter.widget-view+json": {
       "model_id": "4079d6de6725441ab5388e25ac6d2c83",
       "version_major": 2,
       "version_minor": 0
      },
      "text/plain": [
       "WebGuiWidget(layout=Layout(height='50vh', width='100%'), value={'gui_settings': {}, 'ngsolve_version': '6.2.22…"
      ]
     },
     "metadata": {},
     "output_type": "display_data"
    },
    {
     "data": {
      "text/plain": [
       "BaseWebGuiScene"
      ]
     },
     "execution_count": 48,
     "metadata": {},
     "output_type": "execute_result"
    }
   ],
   "source": [
    "from netgen.geom2d import SplineGeometry\n",
    "geo = SplineGeometry()\n",
    "geo.AddRectangle( (0, 0), (2, 0.41), bcs = (\"wall\", \"outlet\", \"wall\", \"inlet\"))\n",
    "geo.AddCircle ( (0.2, 0.2), r=0.05, leftdomain=0, rightdomain=1, bc=\"cyl\", maxh=0.02)\n",
    "mesh = Mesh( geo.GenerateMesh(maxh=0.08))\n",
    "mesh.Curve(3)\n",
    "Draw(mesh)"
   ]
  },
  {
   "cell_type": "code",
   "execution_count": 50,
   "id": "a0ae790c",
   "metadata": {},
   "outputs": [],
   "source": [
    "#Construct function space\n",
    "\n",
    "V = VectorH1(mesh,order=3, dirichlet=\"wall|cyl|inlet\")\n",
    "Q = H1(mesh,order=2)\n",
    "X = V*Q\n",
    "u,p = X.TrialFunction()\n",
    "v,q = X.TestFunction()"
   ]
  },
  {
   "cell_type": "code",
   "execution_count": 51,
   "id": "0cce284c",
   "metadata": {},
   "outputs": [
    {
     "data": {
      "application/vnd.jupyter.widget-view+json": {
       "model_id": "9fbdf7f3bf294f0eb80e4fb335a21080",
       "version_major": 2,
       "version_minor": 0
      },
      "text/plain": [
       "WebGuiWidget(layout=Layout(height='50vh', width='100%'), value={'gui_settings': {}, 'ngsolve_version': '6.2.22…"
      ]
     },
     "metadata": {},
     "output_type": "display_data"
    },
    {
     "data": {
      "text/plain": [
       "BaseWebGuiScene"
      ]
     },
     "execution_count": 51,
     "metadata": {},
     "output_type": "execute_result"
    }
   ],
   "source": [
    "stokes = nu*InnerProduct(grad(u), grad(v))+div(u)*q+div(v)*p - 1e-10*p*q\n",
    "a = BilinearForm(X, symmetric=True)\n",
    "a += stokes*dx\n",
    "a.Assemble()\n",
    "\n",
    "# nothing here ...\n",
    "f = LinearForm(X)   \n",
    "f.Assemble()\n",
    "\n",
    "# gridfunction for the solution\n",
    "gfu = GridFunction(X)\n",
    "\n",
    "# parabolic inflow at inlet:\n",
    "uin = CoefficientFunction( (1.5*4*y*(0.41-y)/(0.41*0.41), 0) )\n",
    "gfu.components[0].Set(uin, definedon=mesh.Boundaries(\"inlet\"))\n",
    "\n",
    "# solve Stokes problem for initial conditions:\n",
    "inv_stokes = a.mat.Inverse(X.FreeDofs())\n",
    "\n",
    "res = f.vec.CreateVector()\n",
    "res.data = f.vec - a.mat*gfu.vec\n",
    "gfu.vec.data += inv_stokes * res\n",
    "\n",
    "\n",
    "# matrix for implicit Euler \n",
    "mstar = BilinearForm(X, symmetric=True)\n",
    "mstar += (u*v + tau*stokes)*dx\n",
    "mstar.Assemble()\n",
    "inv = mstar.mat.Inverse(X.FreeDofs(), inverse=\"sparsecholesky\")\n",
    "\n",
    "# the non-linear term \n",
    "conv = BilinearForm(X, nonassemble = True)\n",
    "conv += (grad(u) * u) * v * dx\n",
    "\n",
    "# for visualization\n",
    "Draw (Norm(gfu.components[0]), mesh, \"velocity\")\n"
   ]
  },
  {
   "cell_type": "code",
   "execution_count": 52,
   "id": "4fe93058",
   "metadata": {},
   "outputs": [
    {
     "name": "stdout",
     "output_type": "stream",
     "text": [
      "t= 4.999999999999938575\r"
     ]
    },
    {
     "data": {
      "application/vnd.jupyter.widget-view+json": {
       "model_id": "610b607c029d48099c57078a05223eaf",
       "version_major": 2,
       "version_minor": 0
      },
      "text/plain": [
       "WebGuiWidget(layout=Layout(height='50vh', width='100%'), value={'gui_settings': {}, 'ngsolve_version': '6.2.22…"
      ]
     },
     "metadata": {},
     "output_type": "display_data"
    },
    {
     "name": "stdout",
     "output_type": "stream",
     "text": [
      "Elapsed time is 1.231912 seconds.\n"
     ]
    }
   ],
   "source": [
    "t1 = TicToc() #create instance of class\n",
    "t1.tic() #Start timer1\n",
    "# implicit Euler/explicit Euler splitting method:\n",
    "t = 0\n",
    "snapshots = []\n",
    "param = []\n",
    "velocity = CoefficientFunction(gfu.components[0:2])\n",
    "\n",
    "with TaskManager():\n",
    "    while t < tend:\n",
    "        print (\"t=\", t, end=\"\\r\")\n",
    "        param.append(t)\n",
    "\n",
    "        conv.Apply (gfu.vec, res)\n",
    "        res.data += a.mat*gfu.vec\n",
    "        gfu.vec.data -= tau * inv * res    \n",
    "        snapshots.append(gfu.vec)\n",
    "        t = t + tau\n",
    "Draw(velocity, mesh, \"vel\")\n",
    "t1.toc()        "
   ]
  },
  {
   "cell_type": "code",
   "execution_count": 39,
   "id": "067e52b5",
   "metadata": {},
   "outputs": [
    {
     "name": "stdout",
     "output_type": "stream",
     "text": [
      "(501, 4550)\n",
      "(501, 1)\n"
     ]
    }
   ],
   "source": [
    "snapshots = np.array(snapshots)\n",
    "param = np.array(param).reshape(-1,1)\n",
    "db = Database(param, snapshots)\n",
    "print(np.shape(db.snapshots))\n",
    "print(np.shape(db.parameters))"
   ]
  },
  {
   "cell_type": "code",
   "execution_count": 40,
   "id": "76f1ef73",
   "metadata": {},
   "outputs": [],
   "source": [
    "pod = POD('svd', rank = 5, save_memory = True)\n"
   ]
  },
  {
   "cell_type": "code",
   "execution_count": 41,
   "id": "d04a1dd4",
   "metadata": {},
   "outputs": [],
   "source": [
    "#Creates an instance of GPR/RBF\n",
    "# provide parameters like kernel, optimize, etc. \n",
    "gpr = GPR()"
   ]
  },
  {
   "cell_type": "code",
   "execution_count": 42,
   "id": "19d0206a",
   "metadata": {},
   "outputs": [],
   "source": [
    "rom = ROM(db, pod, gpr) # pass the instances and not the classes"
   ]
  },
  {
   "cell_type": "code",
   "execution_count": 43,
   "id": "3c2318cf",
   "metadata": {},
   "outputs": [
    {
     "data": {
      "text/plain": [
       "<ezyrb.reducedordermodel.ReducedOrderModel at 0x1facb11eb20>"
      ]
     },
     "execution_count": 43,
     "metadata": {},
     "output_type": "execute_result"
    }
   ],
   "source": [
    "rom.fit()"
   ]
  },
  {
   "cell_type": "code",
   "execution_count": 44,
   "id": "34deed5b",
   "metadata": {},
   "outputs": [
    {
     "name": "stdout",
     "output_type": "stream",
     "text": [
      "Elapsed time is 0.237995 seconds.\n"
     ]
    },
    {
     "data": {
      "application/vnd.jupyter.widget-view+json": {
       "model_id": "53bc55d2770d46f9bbcbc64b2c06f24e",
       "version_major": 2,
       "version_minor": 0
      },
      "text/plain": [
       "WebGuiWidget(layout=Layout(height='50vh', width='100%'), value={'gui_settings': {}, 'ngsolve_version': '6.2.22…"
      ]
     },
     "metadata": {},
     "output_type": "display_data"
    },
    {
     "data": {
      "text/plain": [
       "BaseWebGuiScene"
      ]
     },
     "execution_count": 44,
     "metadata": {},
     "output_type": "execute_result"
    }
   ],
   "source": [
    "# computes u_red = U U^T S, where U = pod modes, S = snapshot matrix\n",
    "#pass the new parameter where you want to compute the reduced solutions\n",
    "t1.tic() #Start timer1\n",
    "\n",
    "t = 0\n",
    "while t < tend:\n",
    "  t = t + tau\n",
    "  pred_sol = rom.predict(t)\n",
    "  gfu1 = GridFunction(X)\n",
    "  gfu1.vec.FV().NumPy()[:] = pred_sol\n",
    "  velocity = CoefficientFunction(gfu1.components[0:2])\n",
    "t1.toc() #Start timer1\n",
    "Draw(velocity, mesh, \"vel\")\n"
   ]
  },
  {
   "cell_type": "code",
   "execution_count": 45,
   "id": "3fa1ea7e",
   "metadata": {},
   "outputs": [
    {
     "name": "stdout",
     "output_type": "stream",
     "text": [
      "4.776142232676212e-16\n"
     ]
    }
   ],
   "source": [
    "# Compute the mean norm of the relative error vectors of predicted test snapshots\n",
    "err = rom.test_error(db)\n",
    "print(err)"
   ]
  },
  {
   "cell_type": "code",
   "execution_count": null,
   "id": "c64b19fe",
   "metadata": {},
   "outputs": [],
   "source": []
  }
 ],
 "metadata": {
  "kernelspec": {
   "display_name": "Python 3 (ipykernel)",
   "language": "python",
   "name": "python3"
  },
  "language_info": {
   "codemirror_mode": {
    "name": "ipython",
    "version": 3
   },
   "file_extension": ".py",
   "mimetype": "text/x-python",
   "name": "python",
   "nbconvert_exporter": "python",
   "pygments_lexer": "ipython3",
   "version": "3.9.13"
  }
 },
 "nbformat": 4,
 "nbformat_minor": 5
}
